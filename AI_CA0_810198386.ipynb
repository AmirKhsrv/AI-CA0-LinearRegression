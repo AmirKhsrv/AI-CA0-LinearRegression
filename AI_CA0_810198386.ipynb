{
 "cells": [
  {
   "cell_type": "markdown",
   "id": "df31d321",
   "metadata": {},
   "source": [
    "# Amirmohammad Khosravi Esfezar                \n",
    "# s.n.: 810198386"
   ]
  },
  {
   "cell_type": "markdown",
   "id": "895982a8",
   "metadata": {},
   "source": [
    "Project Name: Cars Co2 Emission\n",
    "\n",
    "Project Goals: Predicting some missing data using existing data "
   ]
  },
  {
   "cell_type": "markdown",
   "id": "75c6c999",
   "metadata": {},
   "source": [
    "Project Description: In this project we are going to analize different car properties and find out the properties which more relate to car co2 emission and using that properties predict some missing data from our data set. The techniqe for predicting missing data is linear regression. We first find a function which relate car properties to it's co2 emission and using that function calculate other cars(those which have missing parts) co2 emission. "
   ]
  },
  {
   "cell_type": "code",
   "execution_count": 1,
   "id": "21519032",
   "metadata": {},
   "outputs": [],
   "source": [
    "import pandas\n",
    "import numpy\n",
    "import matplotlib\n",
    "import statistics\n",
    "import time\n",
    "from numpy.linalg import inv\n",
    "import matplotlib.pyplot as pyplt"
   ]
  },
  {
   "cell_type": "markdown",
   "id": "023b3ee4",
   "metadata": {},
   "source": [
    "#  Part 1:"
   ]
  },
  {
   "cell_type": "code",
   "execution_count": 2,
   "id": "b02816a7",
   "metadata": {
    "scrolled": false
   },
   "outputs": [],
   "source": [
    "fuelConDF = pandas.read_csv('FuelConsumptionCo2.csv')"
   ]
  },
  {
   "cell_type": "markdown",
   "id": "b322c469",
   "metadata": {},
   "source": [
    "here we read and load csv file and save it in a dataframe"
   ]
  },
  {
   "cell_type": "code",
   "execution_count": 3,
   "id": "f27c5f56",
   "metadata": {},
   "outputs": [
    {
     "name": "stdout",
     "output_type": "stream",
     "text": [
      "   Unnamed: 0  MODELYEAR   MAKE       MODEL VEHICLECLASS  ENGINESIZE  \\\n",
      "0           0       2014  ACURA         ILX      COMPACT         2.0   \n",
      "1           1       2014  ACURA         ILX      COMPACT         2.4   \n",
      "2           2       2014  ACURA  ILX HYBRID      COMPACT         1.5   \n",
      "3           3       2014  ACURA     MDX 4WD  SUV - SMALL         3.5   \n",
      "4           4       2014  ACURA     RDX AWD  SUV - SMALL         3.5   \n",
      "5           5       2014  ACURA         RLX     MID-SIZE         3.5   \n",
      "6           6       2014  ACURA          TL     MID-SIZE         3.5   \n",
      "7           7       2014  ACURA      TL AWD     MID-SIZE         3.7   \n",
      "\n",
      "   CYLINDERS TRANSMISSION FUELTYPE  FUELCONSUMPTION_CITY  FUELCONSUMPTION_HWY  \\\n",
      "0        4.0          AS5        Z                   9.9                  6.7   \n",
      "1        4.0           M6        Z                  11.2                  7.7   \n",
      "2        4.0          AV7        Z                   6.0                  5.8   \n",
      "3        6.0          AS6        Z                  12.7                  9.1   \n",
      "4        6.0          AS6        Z                  12.1                  8.7   \n",
      "5        6.0          AS6        Z                  11.9                  7.7   \n",
      "6        6.0          AS6        Z                  11.8                  8.1   \n",
      "7        6.0          AS6        Z                  12.8                  9.0   \n",
      "\n",
      "   FUELCONSUMPTION_COMB  FUELCONSUMPTION_COMB_MPG  CO2EMISSIONS  \n",
      "0                   8.5                        33         196.0  \n",
      "1                   9.6                        29         221.0  \n",
      "2                   5.9                        48         136.0  \n",
      "3                  11.1                        25           NaN  \n",
      "4                  10.6                        27         244.0  \n",
      "5                  10.0                        28         230.0  \n",
      "6                  10.1                        28         232.0  \n",
      "7                  11.1                        25         255.0  \n"
     ]
    },
    {
     "data": {
      "text/html": [
       "<div>\n",
       "<style scoped>\n",
       "    .dataframe tbody tr th:only-of-type {\n",
       "        vertical-align: middle;\n",
       "    }\n",
       "\n",
       "    .dataframe tbody tr th {\n",
       "        vertical-align: top;\n",
       "    }\n",
       "\n",
       "    .dataframe thead th {\n",
       "        text-align: right;\n",
       "    }\n",
       "</style>\n",
       "<table border=\"1\" class=\"dataframe\">\n",
       "  <thead>\n",
       "    <tr style=\"text-align: right;\">\n",
       "      <th></th>\n",
       "      <th>Unnamed: 0</th>\n",
       "      <th>MODELYEAR</th>\n",
       "      <th>MAKE</th>\n",
       "      <th>MODEL</th>\n",
       "      <th>VEHICLECLASS</th>\n",
       "      <th>ENGINESIZE</th>\n",
       "      <th>CYLINDERS</th>\n",
       "      <th>TRANSMISSION</th>\n",
       "      <th>FUELTYPE</th>\n",
       "      <th>FUELCONSUMPTION_CITY</th>\n",
       "      <th>FUELCONSUMPTION_HWY</th>\n",
       "      <th>FUELCONSUMPTION_COMB</th>\n",
       "      <th>FUELCONSUMPTION_COMB_MPG</th>\n",
       "      <th>CO2EMISSIONS</th>\n",
       "    </tr>\n",
       "  </thead>\n",
       "  <tbody>\n",
       "    <tr>\n",
       "      <th>0</th>\n",
       "      <td>0</td>\n",
       "      <td>2014</td>\n",
       "      <td>ACURA</td>\n",
       "      <td>ILX</td>\n",
       "      <td>COMPACT</td>\n",
       "      <td>2.0</td>\n",
       "      <td>4.0</td>\n",
       "      <td>AS5</td>\n",
       "      <td>Z</td>\n",
       "      <td>9.9</td>\n",
       "      <td>6.7</td>\n",
       "      <td>8.5</td>\n",
       "      <td>33</td>\n",
       "      <td>196.0</td>\n",
       "    </tr>\n",
       "    <tr>\n",
       "      <th>1</th>\n",
       "      <td>1</td>\n",
       "      <td>2014</td>\n",
       "      <td>ACURA</td>\n",
       "      <td>ILX</td>\n",
       "      <td>COMPACT</td>\n",
       "      <td>2.4</td>\n",
       "      <td>4.0</td>\n",
       "      <td>M6</td>\n",
       "      <td>Z</td>\n",
       "      <td>11.2</td>\n",
       "      <td>7.7</td>\n",
       "      <td>9.6</td>\n",
       "      <td>29</td>\n",
       "      <td>221.0</td>\n",
       "    </tr>\n",
       "    <tr>\n",
       "      <th>2</th>\n",
       "      <td>2</td>\n",
       "      <td>2014</td>\n",
       "      <td>ACURA</td>\n",
       "      <td>ILX HYBRID</td>\n",
       "      <td>COMPACT</td>\n",
       "      <td>1.5</td>\n",
       "      <td>4.0</td>\n",
       "      <td>AV7</td>\n",
       "      <td>Z</td>\n",
       "      <td>6.0</td>\n",
       "      <td>5.8</td>\n",
       "      <td>5.9</td>\n",
       "      <td>48</td>\n",
       "      <td>136.0</td>\n",
       "    </tr>\n",
       "    <tr>\n",
       "      <th>3</th>\n",
       "      <td>3</td>\n",
       "      <td>2014</td>\n",
       "      <td>ACURA</td>\n",
       "      <td>MDX 4WD</td>\n",
       "      <td>SUV - SMALL</td>\n",
       "      <td>3.5</td>\n",
       "      <td>6.0</td>\n",
       "      <td>AS6</td>\n",
       "      <td>Z</td>\n",
       "      <td>12.7</td>\n",
       "      <td>9.1</td>\n",
       "      <td>11.1</td>\n",
       "      <td>25</td>\n",
       "      <td>NaN</td>\n",
       "    </tr>\n",
       "    <tr>\n",
       "      <th>4</th>\n",
       "      <td>4</td>\n",
       "      <td>2014</td>\n",
       "      <td>ACURA</td>\n",
       "      <td>RDX AWD</td>\n",
       "      <td>SUV - SMALL</td>\n",
       "      <td>3.5</td>\n",
       "      <td>6.0</td>\n",
       "      <td>AS6</td>\n",
       "      <td>Z</td>\n",
       "      <td>12.1</td>\n",
       "      <td>8.7</td>\n",
       "      <td>10.6</td>\n",
       "      <td>27</td>\n",
       "      <td>244.0</td>\n",
       "    </tr>\n",
       "    <tr>\n",
       "      <th>5</th>\n",
       "      <td>5</td>\n",
       "      <td>2014</td>\n",
       "      <td>ACURA</td>\n",
       "      <td>RLX</td>\n",
       "      <td>MID-SIZE</td>\n",
       "      <td>3.5</td>\n",
       "      <td>6.0</td>\n",
       "      <td>AS6</td>\n",
       "      <td>Z</td>\n",
       "      <td>11.9</td>\n",
       "      <td>7.7</td>\n",
       "      <td>10.0</td>\n",
       "      <td>28</td>\n",
       "      <td>230.0</td>\n",
       "    </tr>\n",
       "    <tr>\n",
       "      <th>6</th>\n",
       "      <td>6</td>\n",
       "      <td>2014</td>\n",
       "      <td>ACURA</td>\n",
       "      <td>TL</td>\n",
       "      <td>MID-SIZE</td>\n",
       "      <td>3.5</td>\n",
       "      <td>6.0</td>\n",
       "      <td>AS6</td>\n",
       "      <td>Z</td>\n",
       "      <td>11.8</td>\n",
       "      <td>8.1</td>\n",
       "      <td>10.1</td>\n",
       "      <td>28</td>\n",
       "      <td>232.0</td>\n",
       "    </tr>\n",
       "    <tr>\n",
       "      <th>7</th>\n",
       "      <td>7</td>\n",
       "      <td>2014</td>\n",
       "      <td>ACURA</td>\n",
       "      <td>TL AWD</td>\n",
       "      <td>MID-SIZE</td>\n",
       "      <td>3.7</td>\n",
       "      <td>6.0</td>\n",
       "      <td>AS6</td>\n",
       "      <td>Z</td>\n",
       "      <td>12.8</td>\n",
       "      <td>9.0</td>\n",
       "      <td>11.1</td>\n",
       "      <td>25</td>\n",
       "      <td>255.0</td>\n",
       "    </tr>\n",
       "  </tbody>\n",
       "</table>\n",
       "</div>"
      ],
      "text/plain": [
       "   Unnamed: 0  MODELYEAR   MAKE       MODEL VEHICLECLASS  ENGINESIZE  \\\n",
       "0           0       2014  ACURA         ILX      COMPACT         2.0   \n",
       "1           1       2014  ACURA         ILX      COMPACT         2.4   \n",
       "2           2       2014  ACURA  ILX HYBRID      COMPACT         1.5   \n",
       "3           3       2014  ACURA     MDX 4WD  SUV - SMALL         3.5   \n",
       "4           4       2014  ACURA     RDX AWD  SUV - SMALL         3.5   \n",
       "5           5       2014  ACURA         RLX     MID-SIZE         3.5   \n",
       "6           6       2014  ACURA          TL     MID-SIZE         3.5   \n",
       "7           7       2014  ACURA      TL AWD     MID-SIZE         3.7   \n",
       "\n",
       "   CYLINDERS TRANSMISSION FUELTYPE  FUELCONSUMPTION_CITY  FUELCONSUMPTION_HWY  \\\n",
       "0        4.0          AS5        Z                   9.9                  6.7   \n",
       "1        4.0           M6        Z                  11.2                  7.7   \n",
       "2        4.0          AV7        Z                   6.0                  5.8   \n",
       "3        6.0          AS6        Z                  12.7                  9.1   \n",
       "4        6.0          AS6        Z                  12.1                  8.7   \n",
       "5        6.0          AS6        Z                  11.9                  7.7   \n",
       "6        6.0          AS6        Z                  11.8                  8.1   \n",
       "7        6.0          AS6        Z                  12.8                  9.0   \n",
       "\n",
       "   FUELCONSUMPTION_COMB  FUELCONSUMPTION_COMB_MPG  CO2EMISSIONS  \n",
       "0                   8.5                        33         196.0  \n",
       "1                   9.6                        29         221.0  \n",
       "2                   5.9                        48         136.0  \n",
       "3                  11.1                        25           NaN  \n",
       "4                  10.6                        27         244.0  \n",
       "5                  10.0                        28         230.0  \n",
       "6                  10.1                        28         232.0  \n",
       "7                  11.1                        25         255.0  "
      ]
     },
     "execution_count": 3,
     "metadata": {},
     "output_type": "execute_result"
    }
   ],
   "source": [
    "print(fuelConDF.head(8))\n",
    "fuelConDF.head(8)"
   ]
  },
  {
   "cell_type": "markdown",
   "id": "27104ad0",
   "metadata": {},
   "source": [
    "the head method prints first n rows of csv file (we can pass n as an argument to head method) "
   ]
  },
  {
   "cell_type": "code",
   "execution_count": 4,
   "id": "9933c07f",
   "metadata": {},
   "outputs": [
    {
     "name": "stdout",
     "output_type": "stream",
     "text": [
      "      Unnamed: 0  MODELYEAR   MAKE     MODEL    VEHICLECLASS  ENGINESIZE  \\\n",
      "1059        1059       2014  VOLVO       S80        MID-SIZE         3.2   \n",
      "1060        1060       2014  VOLVO   S80 AWD        MID-SIZE         3.0   \n",
      "1061        1061       2014  VOLVO      XC60     SUV - SMALL         3.2   \n",
      "1062        1062       2014  VOLVO  XC60 AWD     SUV - SMALL         3.0   \n",
      "1063        1063       2014  VOLVO  XC60 AWD     SUV - SMALL         3.2   \n",
      "1064        1064       2014  VOLVO  XC70 AWD     SUV - SMALL         3.0   \n",
      "1065        1065       2014  VOLVO  XC70 AWD     SUV - SMALL         3.2   \n",
      "1066        1066       2014  VOLVO  XC90 AWD  SUV - STANDARD         3.2   \n",
      "\n",
      "      CYLINDERS TRANSMISSION FUELTYPE  FUELCONSUMPTION_CITY  \\\n",
      "1059        6.0          AS6        X                  11.9   \n",
      "1060        6.0          AS6        X                  13.2   \n",
      "1061        6.0          AS6        X                  13.0   \n",
      "1062        6.0          AS6        X                  13.4   \n",
      "1063        6.0          AS6        X                  13.2   \n",
      "1064        6.0          AS6        X                  13.4   \n",
      "1065        6.0          AS6        X                  12.9   \n",
      "1066        6.0          AS6        X                  14.9   \n",
      "\n",
      "      FUELCONSUMPTION_HWY  FUELCONSUMPTION_COMB  FUELCONSUMPTION_COMB_MPG  \\\n",
      "1059                  8.1                  10.2                        28   \n",
      "1060                  9.5                  11.5                        25   \n",
      "1061                  8.9                  11.2                        25   \n",
      "1062                  9.8                  11.8                        24   \n",
      "1063                  9.5                  11.5                        25   \n",
      "1064                  9.8                  11.8                        24   \n",
      "1065                  9.3                  11.3                        25   \n",
      "1066                 10.2                  12.8                        22   \n",
      "\n",
      "      CO2EMISSIONS  \n",
      "1059         235.0  \n",
      "1060         264.0  \n",
      "1061         258.0  \n",
      "1062         271.0  \n",
      "1063         264.0  \n",
      "1064         271.0  \n",
      "1065         260.0  \n",
      "1066         294.0  \n"
     ]
    },
    {
     "data": {
      "text/html": [
       "<div>\n",
       "<style scoped>\n",
       "    .dataframe tbody tr th:only-of-type {\n",
       "        vertical-align: middle;\n",
       "    }\n",
       "\n",
       "    .dataframe tbody tr th {\n",
       "        vertical-align: top;\n",
       "    }\n",
       "\n",
       "    .dataframe thead th {\n",
       "        text-align: right;\n",
       "    }\n",
       "</style>\n",
       "<table border=\"1\" class=\"dataframe\">\n",
       "  <thead>\n",
       "    <tr style=\"text-align: right;\">\n",
       "      <th></th>\n",
       "      <th>Unnamed: 0</th>\n",
       "      <th>MODELYEAR</th>\n",
       "      <th>MAKE</th>\n",
       "      <th>MODEL</th>\n",
       "      <th>VEHICLECLASS</th>\n",
       "      <th>ENGINESIZE</th>\n",
       "      <th>CYLINDERS</th>\n",
       "      <th>TRANSMISSION</th>\n",
       "      <th>FUELTYPE</th>\n",
       "      <th>FUELCONSUMPTION_CITY</th>\n",
       "      <th>FUELCONSUMPTION_HWY</th>\n",
       "      <th>FUELCONSUMPTION_COMB</th>\n",
       "      <th>FUELCONSUMPTION_COMB_MPG</th>\n",
       "      <th>CO2EMISSIONS</th>\n",
       "    </tr>\n",
       "  </thead>\n",
       "  <tbody>\n",
       "    <tr>\n",
       "      <th>1059</th>\n",
       "      <td>1059</td>\n",
       "      <td>2014</td>\n",
       "      <td>VOLVO</td>\n",
       "      <td>S80</td>\n",
       "      <td>MID-SIZE</td>\n",
       "      <td>3.2</td>\n",
       "      <td>6.0</td>\n",
       "      <td>AS6</td>\n",
       "      <td>X</td>\n",
       "      <td>11.9</td>\n",
       "      <td>8.1</td>\n",
       "      <td>10.2</td>\n",
       "      <td>28</td>\n",
       "      <td>235.0</td>\n",
       "    </tr>\n",
       "    <tr>\n",
       "      <th>1060</th>\n",
       "      <td>1060</td>\n",
       "      <td>2014</td>\n",
       "      <td>VOLVO</td>\n",
       "      <td>S80 AWD</td>\n",
       "      <td>MID-SIZE</td>\n",
       "      <td>3.0</td>\n",
       "      <td>6.0</td>\n",
       "      <td>AS6</td>\n",
       "      <td>X</td>\n",
       "      <td>13.2</td>\n",
       "      <td>9.5</td>\n",
       "      <td>11.5</td>\n",
       "      <td>25</td>\n",
       "      <td>264.0</td>\n",
       "    </tr>\n",
       "    <tr>\n",
       "      <th>1061</th>\n",
       "      <td>1061</td>\n",
       "      <td>2014</td>\n",
       "      <td>VOLVO</td>\n",
       "      <td>XC60</td>\n",
       "      <td>SUV - SMALL</td>\n",
       "      <td>3.2</td>\n",
       "      <td>6.0</td>\n",
       "      <td>AS6</td>\n",
       "      <td>X</td>\n",
       "      <td>13.0</td>\n",
       "      <td>8.9</td>\n",
       "      <td>11.2</td>\n",
       "      <td>25</td>\n",
       "      <td>258.0</td>\n",
       "    </tr>\n",
       "    <tr>\n",
       "      <th>1062</th>\n",
       "      <td>1062</td>\n",
       "      <td>2014</td>\n",
       "      <td>VOLVO</td>\n",
       "      <td>XC60 AWD</td>\n",
       "      <td>SUV - SMALL</td>\n",
       "      <td>3.0</td>\n",
       "      <td>6.0</td>\n",
       "      <td>AS6</td>\n",
       "      <td>X</td>\n",
       "      <td>13.4</td>\n",
       "      <td>9.8</td>\n",
       "      <td>11.8</td>\n",
       "      <td>24</td>\n",
       "      <td>271.0</td>\n",
       "    </tr>\n",
       "    <tr>\n",
       "      <th>1063</th>\n",
       "      <td>1063</td>\n",
       "      <td>2014</td>\n",
       "      <td>VOLVO</td>\n",
       "      <td>XC60 AWD</td>\n",
       "      <td>SUV - SMALL</td>\n",
       "      <td>3.2</td>\n",
       "      <td>6.0</td>\n",
       "      <td>AS6</td>\n",
       "      <td>X</td>\n",
       "      <td>13.2</td>\n",
       "      <td>9.5</td>\n",
       "      <td>11.5</td>\n",
       "      <td>25</td>\n",
       "      <td>264.0</td>\n",
       "    </tr>\n",
       "    <tr>\n",
       "      <th>1064</th>\n",
       "      <td>1064</td>\n",
       "      <td>2014</td>\n",
       "      <td>VOLVO</td>\n",
       "      <td>XC70 AWD</td>\n",
       "      <td>SUV - SMALL</td>\n",
       "      <td>3.0</td>\n",
       "      <td>6.0</td>\n",
       "      <td>AS6</td>\n",
       "      <td>X</td>\n",
       "      <td>13.4</td>\n",
       "      <td>9.8</td>\n",
       "      <td>11.8</td>\n",
       "      <td>24</td>\n",
       "      <td>271.0</td>\n",
       "    </tr>\n",
       "    <tr>\n",
       "      <th>1065</th>\n",
       "      <td>1065</td>\n",
       "      <td>2014</td>\n",
       "      <td>VOLVO</td>\n",
       "      <td>XC70 AWD</td>\n",
       "      <td>SUV - SMALL</td>\n",
       "      <td>3.2</td>\n",
       "      <td>6.0</td>\n",
       "      <td>AS6</td>\n",
       "      <td>X</td>\n",
       "      <td>12.9</td>\n",
       "      <td>9.3</td>\n",
       "      <td>11.3</td>\n",
       "      <td>25</td>\n",
       "      <td>260.0</td>\n",
       "    </tr>\n",
       "    <tr>\n",
       "      <th>1066</th>\n",
       "      <td>1066</td>\n",
       "      <td>2014</td>\n",
       "      <td>VOLVO</td>\n",
       "      <td>XC90 AWD</td>\n",
       "      <td>SUV - STANDARD</td>\n",
       "      <td>3.2</td>\n",
       "      <td>6.0</td>\n",
       "      <td>AS6</td>\n",
       "      <td>X</td>\n",
       "      <td>14.9</td>\n",
       "      <td>10.2</td>\n",
       "      <td>12.8</td>\n",
       "      <td>22</td>\n",
       "      <td>294.0</td>\n",
       "    </tr>\n",
       "  </tbody>\n",
       "</table>\n",
       "</div>"
      ],
      "text/plain": [
       "      Unnamed: 0  MODELYEAR   MAKE     MODEL    VEHICLECLASS  ENGINESIZE  \\\n",
       "1059        1059       2014  VOLVO       S80        MID-SIZE         3.2   \n",
       "1060        1060       2014  VOLVO   S80 AWD        MID-SIZE         3.0   \n",
       "1061        1061       2014  VOLVO      XC60     SUV - SMALL         3.2   \n",
       "1062        1062       2014  VOLVO  XC60 AWD     SUV - SMALL         3.0   \n",
       "1063        1063       2014  VOLVO  XC60 AWD     SUV - SMALL         3.2   \n",
       "1064        1064       2014  VOLVO  XC70 AWD     SUV - SMALL         3.0   \n",
       "1065        1065       2014  VOLVO  XC70 AWD     SUV - SMALL         3.2   \n",
       "1066        1066       2014  VOLVO  XC90 AWD  SUV - STANDARD         3.2   \n",
       "\n",
       "      CYLINDERS TRANSMISSION FUELTYPE  FUELCONSUMPTION_CITY  \\\n",
       "1059        6.0          AS6        X                  11.9   \n",
       "1060        6.0          AS6        X                  13.2   \n",
       "1061        6.0          AS6        X                  13.0   \n",
       "1062        6.0          AS6        X                  13.4   \n",
       "1063        6.0          AS6        X                  13.2   \n",
       "1064        6.0          AS6        X                  13.4   \n",
       "1065        6.0          AS6        X                  12.9   \n",
       "1066        6.0          AS6        X                  14.9   \n",
       "\n",
       "      FUELCONSUMPTION_HWY  FUELCONSUMPTION_COMB  FUELCONSUMPTION_COMB_MPG  \\\n",
       "1059                  8.1                  10.2                        28   \n",
       "1060                  9.5                  11.5                        25   \n",
       "1061                  8.9                  11.2                        25   \n",
       "1062                  9.8                  11.8                        24   \n",
       "1063                  9.5                  11.5                        25   \n",
       "1064                  9.8                  11.8                        24   \n",
       "1065                  9.3                  11.3                        25   \n",
       "1066                 10.2                  12.8                        22   \n",
       "\n",
       "      CO2EMISSIONS  \n",
       "1059         235.0  \n",
       "1060         264.0  \n",
       "1061         258.0  \n",
       "1062         271.0  \n",
       "1063         264.0  \n",
       "1064         271.0  \n",
       "1065         260.0  \n",
       "1066         294.0  "
      ]
     },
     "execution_count": 4,
     "metadata": {},
     "output_type": "execute_result"
    }
   ],
   "source": [
    "print(fuelConDF.tail(8))\n",
    "fuelConDF.tail(8)"
   ]
  },
  {
   "cell_type": "markdown",
   "id": "357d3b29",
   "metadata": {},
   "source": [
    "the tail method prints last n rows of csv file (we can pass n as an argument to tail method)"
   ]
  },
  {
   "cell_type": "code",
   "execution_count": 5,
   "id": "bdea8448",
   "metadata": {},
   "outputs": [
    {
     "name": "stdout",
     "output_type": "stream",
     "text": [
      "        Unnamed: 0  MODELYEAR   ENGINESIZE    CYLINDERS  FUELCONSUMPTION_CITY  \\\n",
      "count  1067.000000     1067.0  1040.000000  1033.000000           1067.000000   \n",
      "mean    533.000000     2014.0     3.324038     5.797677             13.296532   \n",
      "std     308.160672        0.0     1.411400     1.807262              4.101253   \n",
      "min       0.000000     2014.0     1.000000     3.000000              4.600000   \n",
      "25%     266.500000     2014.0     2.000000     4.000000             10.250000   \n",
      "50%     533.000000     2014.0     3.300000     6.000000             12.600000   \n",
      "75%     799.500000     2014.0     4.200000     8.000000             15.550000   \n",
      "max    1066.000000     2014.0     8.400000    12.000000             30.200000   \n",
      "\n",
      "       FUELCONSUMPTION_HWY  FUELCONSUMPTION_COMB  FUELCONSUMPTION_COMB_MPG  \\\n",
      "count          1067.000000           1067.000000               1067.000000   \n",
      "mean              9.474602             11.580881                 26.441425   \n",
      "std               2.794510              3.485595                  7.468702   \n",
      "min               4.900000              4.700000                 11.000000   \n",
      "25%               7.500000              9.000000                 21.000000   \n",
      "50%               8.800000             10.900000                 26.000000   \n",
      "75%              10.850000             13.350000                 31.000000   \n",
      "max              20.500000             25.800000                 60.000000   \n",
      "\n",
      "       CO2EMISSIONS  \n",
      "count    964.000000  \n",
      "mean     256.741701  \n",
      "std       63.265308  \n",
      "min      108.000000  \n",
      "25%      209.000000  \n",
      "50%      251.000000  \n",
      "75%      294.000000  \n",
      "max      437.000000  \n"
     ]
    },
    {
     "data": {
      "text/html": [
       "<div>\n",
       "<style scoped>\n",
       "    .dataframe tbody tr th:only-of-type {\n",
       "        vertical-align: middle;\n",
       "    }\n",
       "\n",
       "    .dataframe tbody tr th {\n",
       "        vertical-align: top;\n",
       "    }\n",
       "\n",
       "    .dataframe thead th {\n",
       "        text-align: right;\n",
       "    }\n",
       "</style>\n",
       "<table border=\"1\" class=\"dataframe\">\n",
       "  <thead>\n",
       "    <tr style=\"text-align: right;\">\n",
       "      <th></th>\n",
       "      <th>Unnamed: 0</th>\n",
       "      <th>MODELYEAR</th>\n",
       "      <th>ENGINESIZE</th>\n",
       "      <th>CYLINDERS</th>\n",
       "      <th>FUELCONSUMPTION_CITY</th>\n",
       "      <th>FUELCONSUMPTION_HWY</th>\n",
       "      <th>FUELCONSUMPTION_COMB</th>\n",
       "      <th>FUELCONSUMPTION_COMB_MPG</th>\n",
       "      <th>CO2EMISSIONS</th>\n",
       "    </tr>\n",
       "  </thead>\n",
       "  <tbody>\n",
       "    <tr>\n",
       "      <th>count</th>\n",
       "      <td>1067.000000</td>\n",
       "      <td>1067.0</td>\n",
       "      <td>1040.000000</td>\n",
       "      <td>1033.000000</td>\n",
       "      <td>1067.000000</td>\n",
       "      <td>1067.000000</td>\n",
       "      <td>1067.000000</td>\n",
       "      <td>1067.000000</td>\n",
       "      <td>964.000000</td>\n",
       "    </tr>\n",
       "    <tr>\n",
       "      <th>mean</th>\n",
       "      <td>533.000000</td>\n",
       "      <td>2014.0</td>\n",
       "      <td>3.324038</td>\n",
       "      <td>5.797677</td>\n",
       "      <td>13.296532</td>\n",
       "      <td>9.474602</td>\n",
       "      <td>11.580881</td>\n",
       "      <td>26.441425</td>\n",
       "      <td>256.741701</td>\n",
       "    </tr>\n",
       "    <tr>\n",
       "      <th>std</th>\n",
       "      <td>308.160672</td>\n",
       "      <td>0.0</td>\n",
       "      <td>1.411400</td>\n",
       "      <td>1.807262</td>\n",
       "      <td>4.101253</td>\n",
       "      <td>2.794510</td>\n",
       "      <td>3.485595</td>\n",
       "      <td>7.468702</td>\n",
       "      <td>63.265308</td>\n",
       "    </tr>\n",
       "    <tr>\n",
       "      <th>min</th>\n",
       "      <td>0.000000</td>\n",
       "      <td>2014.0</td>\n",
       "      <td>1.000000</td>\n",
       "      <td>3.000000</td>\n",
       "      <td>4.600000</td>\n",
       "      <td>4.900000</td>\n",
       "      <td>4.700000</td>\n",
       "      <td>11.000000</td>\n",
       "      <td>108.000000</td>\n",
       "    </tr>\n",
       "    <tr>\n",
       "      <th>25%</th>\n",
       "      <td>266.500000</td>\n",
       "      <td>2014.0</td>\n",
       "      <td>2.000000</td>\n",
       "      <td>4.000000</td>\n",
       "      <td>10.250000</td>\n",
       "      <td>7.500000</td>\n",
       "      <td>9.000000</td>\n",
       "      <td>21.000000</td>\n",
       "      <td>209.000000</td>\n",
       "    </tr>\n",
       "    <tr>\n",
       "      <th>50%</th>\n",
       "      <td>533.000000</td>\n",
       "      <td>2014.0</td>\n",
       "      <td>3.300000</td>\n",
       "      <td>6.000000</td>\n",
       "      <td>12.600000</td>\n",
       "      <td>8.800000</td>\n",
       "      <td>10.900000</td>\n",
       "      <td>26.000000</td>\n",
       "      <td>251.000000</td>\n",
       "    </tr>\n",
       "    <tr>\n",
       "      <th>75%</th>\n",
       "      <td>799.500000</td>\n",
       "      <td>2014.0</td>\n",
       "      <td>4.200000</td>\n",
       "      <td>8.000000</td>\n",
       "      <td>15.550000</td>\n",
       "      <td>10.850000</td>\n",
       "      <td>13.350000</td>\n",
       "      <td>31.000000</td>\n",
       "      <td>294.000000</td>\n",
       "    </tr>\n",
       "    <tr>\n",
       "      <th>max</th>\n",
       "      <td>1066.000000</td>\n",
       "      <td>2014.0</td>\n",
       "      <td>8.400000</td>\n",
       "      <td>12.000000</td>\n",
       "      <td>30.200000</td>\n",
       "      <td>20.500000</td>\n",
       "      <td>25.800000</td>\n",
       "      <td>60.000000</td>\n",
       "      <td>437.000000</td>\n",
       "    </tr>\n",
       "  </tbody>\n",
       "</table>\n",
       "</div>"
      ],
      "text/plain": [
       "        Unnamed: 0  MODELYEAR   ENGINESIZE    CYLINDERS  FUELCONSUMPTION_CITY  \\\n",
       "count  1067.000000     1067.0  1040.000000  1033.000000           1067.000000   \n",
       "mean    533.000000     2014.0     3.324038     5.797677             13.296532   \n",
       "std     308.160672        0.0     1.411400     1.807262              4.101253   \n",
       "min       0.000000     2014.0     1.000000     3.000000              4.600000   \n",
       "25%     266.500000     2014.0     2.000000     4.000000             10.250000   \n",
       "50%     533.000000     2014.0     3.300000     6.000000             12.600000   \n",
       "75%     799.500000     2014.0     4.200000     8.000000             15.550000   \n",
       "max    1066.000000     2014.0     8.400000    12.000000             30.200000   \n",
       "\n",
       "       FUELCONSUMPTION_HWY  FUELCONSUMPTION_COMB  FUELCONSUMPTION_COMB_MPG  \\\n",
       "count          1067.000000           1067.000000               1067.000000   \n",
       "mean              9.474602             11.580881                 26.441425   \n",
       "std               2.794510              3.485595                  7.468702   \n",
       "min               4.900000              4.700000                 11.000000   \n",
       "25%               7.500000              9.000000                 21.000000   \n",
       "50%               8.800000             10.900000                 26.000000   \n",
       "75%              10.850000             13.350000                 31.000000   \n",
       "max              20.500000             25.800000                 60.000000   \n",
       "\n",
       "       CO2EMISSIONS  \n",
       "count    964.000000  \n",
       "mean     256.741701  \n",
       "std       63.265308  \n",
       "min      108.000000  \n",
       "25%      209.000000  \n",
       "50%      251.000000  \n",
       "75%      294.000000  \n",
       "max      437.000000  "
      ]
     },
     "execution_count": 5,
     "metadata": {},
     "output_type": "execute_result"
    }
   ],
   "source": [
    "print(fuelConDF.describe())\n",
    "fuelConDF.describe()"
   ]
  },
  {
   "cell_type": "markdown",
   "id": "e48924e4",
   "metadata": {},
   "source": [
    "the describe method prints count, mean, std, min, max and quarters for data in each column"
   ]
  },
  {
   "cell_type": "markdown",
   "id": "cf5cf7ef",
   "metadata": {},
   "source": [
    "# Part 2:"
   ]
  },
  {
   "cell_type": "code",
   "execution_count": 6,
   "id": "be4a794e",
   "metadata": {},
   "outputs": [
    {
     "name": "stdout",
     "output_type": "stream",
     "text": [
      "<class 'pandas.core.frame.DataFrame'>\n",
      "RangeIndex: 1067 entries, 0 to 1066\n",
      "Data columns (total 14 columns):\n",
      " #   Column                    Non-Null Count  Dtype  \n",
      "---  ------                    --------------  -----  \n",
      " 0   Unnamed: 0                1067 non-null   int64  \n",
      " 1   MODELYEAR                 1067 non-null   int64  \n",
      " 2   MAKE                      1067 non-null   object \n",
      " 3   MODEL                     1058 non-null   object \n",
      " 4   VEHICLECLASS              1067 non-null   object \n",
      " 5   ENGINESIZE                1040 non-null   float64\n",
      " 6   CYLINDERS                 1033 non-null   float64\n",
      " 7   TRANSMISSION              1067 non-null   object \n",
      " 8   FUELTYPE                  996 non-null    object \n",
      " 9   FUELCONSUMPTION_CITY      1067 non-null   float64\n",
      " 10  FUELCONSUMPTION_HWY       1067 non-null   float64\n",
      " 11  FUELCONSUMPTION_COMB      1067 non-null   float64\n",
      " 12  FUELCONSUMPTION_COMB_MPG  1067 non-null   int64  \n",
      " 13  CO2EMISSIONS              964 non-null    float64\n",
      "dtypes: float64(6), int64(3), object(5)\n",
      "memory usage: 116.8+ KB\n",
      "None\n"
     ]
    }
   ],
   "source": [
    "print(fuelConDF.info())"
   ]
  },
  {
   "cell_type": "markdown",
   "id": "4b1f4e7b",
   "metadata": {},
   "source": [
    "Here we use info method to see what data type exist in each column count non-null values.\n",
    "\n",
    "Categorical Columns: MAKE, MODEL, WEHICLECLASS, TRANSMISSION, FUELTYPE\n",
    "\n",
    "Numerical Columns: MODELYEAR, ENGINESIZE, CYLINDERS, FUELCONSUMPTION_CITY, FUELCONSUMPTION_HWY, FUELCONSUMPTION_COMB, FUELCONSUMPTION_COMB_MPG, CO2EMISSIONS"
   ]
  },
  {
   "cell_type": "code",
   "execution_count": 7,
   "id": "5443c06b",
   "metadata": {},
   "outputs": [],
   "source": [
    "fuelConDF['FUELTYPE'] = fuelConDF['FUELTYPE'].replace({'Z': 0, 'D': 1, 'E': 2, 'X': 3})"
   ]
  },
  {
   "cell_type": "markdown",
   "id": "d4a6756d",
   "metadata": {},
   "source": [
    "Here we convert categorical values to numerical valuse so it will be easier to deal with."
   ]
  },
  {
   "cell_type": "markdown",
   "id": "a2703217",
   "metadata": {},
   "source": [
    "# Part 3:"
   ]
  },
  {
   "cell_type": "code",
   "execution_count": 8,
   "id": "e8469b6b",
   "metadata": {},
   "outputs": [
    {
     "data": {
      "text/plain": [
       "Unnamed: 0                    0\n",
       "MODELYEAR                     0\n",
       "MAKE                          0\n",
       "MODEL                         9\n",
       "VEHICLECLASS                  0\n",
       "ENGINESIZE                   27\n",
       "CYLINDERS                    34\n",
       "TRANSMISSION                  0\n",
       "FUELTYPE                     71\n",
       "FUELCONSUMPTION_CITY          0\n",
       "FUELCONSUMPTION_HWY           0\n",
       "FUELCONSUMPTION_COMB          0\n",
       "FUELCONSUMPTION_COMB_MPG      0\n",
       "CO2EMISSIONS                103\n",
       "dtype: int64"
      ]
     },
     "execution_count": 8,
     "metadata": {},
     "output_type": "execute_result"
    }
   ],
   "source": [
    "fuelConDF.isna().sum()"
   ]
  },
  {
   "cell_type": "markdown",
   "id": "9464fa0f",
   "metadata": {},
   "source": [
    "Counts number of NA in dataframe"
   ]
  },
  {
   "cell_type": "code",
   "execution_count": 9,
   "id": "ddc331cf",
   "metadata": {},
   "outputs": [],
   "source": [
    "fuelConDF['FUELTYPE'].fillna(value = fuelConDF['FUELTYPE'].mode()[0], inplace = True)\n",
    "fuelConDF['MODEL'].fillna(value = fuelConDF['MODEL'].mode()[0], inplace = True)\n",
    "fuelConDF['ENGINESIZE'].fillna(value = fuelConDF['ENGINESIZE'].mean(), inplace = True)\n",
    "fuelConDF['CYLINDERS'].fillna(value = fuelConDF['ENGINESIZE'].mean(), inplace = True)"
   ]
  },
  {
   "cell_type": "markdown",
   "id": "0e93fb49",
   "metadata": {},
   "source": [
    "We fill NA values with mean(for numerical values) or mode(for categorical values).\n",
    "\n",
    "This technique has pros and cons:\n",
    "\n",
    "pros: We wont have NA values and we can do calculations. the total result will be close to reality cause we used mean and mode for missing values. this technique is simple and fast to apply too.\n",
    "\n",
    "cons: We may fill NA cells with wrong values and it cause not good results. we may fill many cells with knowing few other values that is not a good prediction for missing values."
   ]
  },
  {
   "cell_type": "code",
   "execution_count": 10,
   "id": "3cc2a6b1",
   "metadata": {},
   "outputs": [],
   "source": [
    "naFuelConDF = fuelConDF[fuelConDF['CO2EMISSIONS'].isna()]\n",
    "newFuelConDF = fuelConDF[fuelConDF['CO2EMISSIONS'].notna()]"
   ]
  },
  {
   "cell_type": "markdown",
   "id": "9af77fa9",
   "metadata": {},
   "source": [
    "We seperate rows (cars) which has CO2EMISSIONS and those which dont have(have NA value instead) and save them in different data frames."
   ]
  },
  {
   "cell_type": "markdown",
   "id": "b8c92a41",
   "metadata": {},
   "source": [
    "# Part 4:"
   ]
  },
  {
   "cell_type": "code",
   "execution_count": 11,
   "id": "ac13d0a3",
   "metadata": {},
   "outputs": [
    {
     "name": "stdout",
     "output_type": "stream",
     "text": [
      "Mean (less than 240) : 10.03781902552204\n"
     ]
    }
   ],
   "source": [
    "start1 = time.time()\n",
    "\n",
    "print(\"Mean (less than 240) :\", newFuelConDF[newFuelConDF['CO2EMISSIONS'] < 240]['FUELCONSUMPTION_CITY'].mean())"
   ]
  },
  {
   "cell_type": "code",
   "execution_count": 12,
   "id": "2caca379",
   "metadata": {},
   "outputs": [
    {
     "name": "stdout",
     "output_type": "stream",
     "text": [
      "Mean (more than 300) : 18.663255813953487\n"
     ]
    }
   ],
   "source": [
    "print(\"Mean (more than 300) :\", newFuelConDF[newFuelConDF['CO2EMISSIONS'] > 300]['FUELCONSUMPTION_CITY'].mean())\n",
    "\n",
    "end1 = time.time()"
   ]
  },
  {
   "cell_type": "code",
   "execution_count": 13,
   "id": "1530e9d7",
   "metadata": {
    "scrolled": true
   },
   "outputs": [
    {
     "name": "stdout",
     "output_type": "stream",
     "text": [
      "Runtime of the program is 0.01795196533203125\n"
     ]
    }
   ],
   "source": [
    "print(f\"Runtime of the program is {end1 - start1}\")"
   ]
  },
  {
   "cell_type": "markdown",
   "id": "b81c1d81",
   "metadata": {},
   "source": [
    "We find the asked means and the running time here is 0.014969348907470703"
   ]
  },
  {
   "cell_type": "markdown",
   "id": "dbb98c42",
   "metadata": {},
   "source": [
    "# Part 5:"
   ]
  },
  {
   "cell_type": "code",
   "execution_count": 14,
   "id": "e5f7070c",
   "metadata": {},
   "outputs": [
    {
     "name": "stdout",
     "output_type": "stream",
     "text": [
      "Mean (less than 240) : 10.037819025522042\n",
      "Mean (more than 300) : 18.663255813953487\n"
     ]
    }
   ],
   "source": [
    "start2 = time.time()\n",
    "\n",
    "feulSum = 0\n",
    "carCount = 0\n",
    "for i in range(len(newFuelConDF)):\n",
    "    if newFuelConDF.iloc[i][\"CO2EMISSIONS\"] < 240:\n",
    "        feulSum += newFuelConDF.iloc[i][\"FUELCONSUMPTION_CITY\"]\n",
    "        carCount += 1\n",
    "        \n",
    "print(\"Mean (less than 240) :\", feulSum / carCount)\n",
    "\n",
    "feulSum = 0\n",
    "carCount = 0\n",
    "for i in range(len(newFuelConDF)):\n",
    "    if newFuelConDF.iloc[i][\"CO2EMISSIONS\"] > 300:\n",
    "        feulSum += newFuelConDF.iloc[i][\"FUELCONSUMPTION_CITY\"]\n",
    "        carCount += 1\n",
    "        \n",
    "print(\"Mean (more than 300) :\", feulSum / carCount)\n",
    "\n",
    "end2 = time.time()"
   ]
  },
  {
   "cell_type": "code",
   "execution_count": 15,
   "id": "3525cbb4",
   "metadata": {},
   "outputs": [
    {
     "name": "stdout",
     "output_type": "stream",
     "text": [
      "Runtime of the program is 0.2591426372528076\n"
     ]
    }
   ],
   "source": [
    "print(f\"Runtime of the program is {end2 - start2}\")"
   ]
  },
  {
   "cell_type": "markdown",
   "id": "cf25f2e1",
   "metadata": {},
   "source": [
    "Here we calculate asked means with for loop and also calculate spend time for it which is 0.301175594329834 which is about 30 times slower than previous way of calculationg and showing same means."
   ]
  },
  {
   "cell_type": "markdown",
   "id": "af50c7c3",
   "metadata": {},
   "source": [
    "# Part 6:"
   ]
  },
  {
   "cell_type": "code",
   "execution_count": 16,
   "id": "1d7e7167",
   "metadata": {},
   "outputs": [
    {
     "data": {
      "text/plain": [
       "array([[<AxesSubplot:title={'center':'Unnamed: 0'}>,\n",
       "        <AxesSubplot:title={'center':'MODELYEAR'}>,\n",
       "        <AxesSubplot:title={'center':'ENGINESIZE'}>],\n",
       "       [<AxesSubplot:title={'center':'CYLINDERS'}>,\n",
       "        <AxesSubplot:title={'center':'FUELCONSUMPTION_CITY'}>,\n",
       "        <AxesSubplot:title={'center':'FUELCONSUMPTION_HWY'}>],\n",
       "       [<AxesSubplot:title={'center':'FUELCONSUMPTION_COMB'}>,\n",
       "        <AxesSubplot:title={'center':'FUELCONSUMPTION_COMB_MPG'}>,\n",
       "        <AxesSubplot:title={'center':'CO2EMISSIONS'}>]], dtype=object)"
      ]
     },
     "execution_count": 16,
     "metadata": {},
     "output_type": "execute_result"
    },
    {
     "data": {
      "image/png": "[encoded data removed]",
      "text/plain": [
       "<Figure size 432x288 with 9 Axes>"
      ]
     },
     "metadata": {
      "needs_background": "light"
     },
     "output_type": "display_data"
    }
   ],
   "source": [
    "numFuelConDF = newFuelConDF.drop(columns = ['MODEL', 'VEHICLECLASS', 'FUELTYPE', 'TRANSMISSION', 'MAKE'])\n",
    "numFuelConDF.hist(bins = 60)"
   ]
  },
  {
   "cell_type": "markdown",
   "id": "09cdf8e1",
   "metadata": {},
   "source": [
    "First we delete categorical values from with drop method and then we use hist method to show histogram of numerical columns.\n",
    "One by one column histograms are like below (better view)  :"
   ]
  },
  {
   "cell_type": "code",
   "execution_count": 17,
   "id": "cdbe2ae7",
   "metadata": {},
   "outputs": [
    {
     "data": {
      "text/plain": [
       "<AxesSubplot:>"
      ]
     },
     "execution_count": 17,
     "metadata": {},
     "output_type": "execute_result"
    },
    {
     "data": {
      "image/png": "[encoded data removed]",
      "text/plain": [
       "<Figure size 432x288 with 1 Axes>"
      ]
     },
     "metadata": {
      "needs_background": "light"
     },
     "output_type": "display_data"
    }
   ],
   "source": [
    "numFuelConDF['MODELYEAR'].hist(bins = 60)"
   ]
  },
  {
   "cell_type": "code",
   "execution_count": 18,
   "id": "cb8f3baa",
   "metadata": {},
   "outputs": [
    {
     "data": {
      "text/plain": [
       "<AxesSubplot:>"
      ]
     },
     "execution_count": 18,
     "metadata": {},
     "output_type": "execute_result"
    },
    {
     "data": {
      "image/png": "[encoded data removed]",
      "text/plain": [
       "<Figure size 432x288 with 1 Axes>"
      ]
     },
     "metadata": {
      "needs_background": "light"
     },
     "output_type": "display_data"
    }
   ],
   "source": [
    "numFuelConDF['ENGINESIZE'].hist(bins = 60)"
   ]
  },
  {
   "cell_type": "code",
   "execution_count": 19,
   "id": "f1d62c35",
   "metadata": {},
   "outputs": [
    {
     "data": {
      "text/plain": [
       "<AxesSubplot:>"
      ]
     },
     "execution_count": 19,
     "metadata": {},
     "output_type": "execute_result"
    },
    {
     "data": {
      "image/png": "[encoded data removed]",
      "text/plain": [
       "<Figure size 432x288 with 1 Axes>"
      ]
     },
     "metadata": {
      "needs_background": "light"
     },
     "output_type": "display_data"
    }
   ],
   "source": [
    "numFuelConDF['CYLINDERS'].hist(bins = 60)"
   ]
  },
  {
   "cell_type": "code",
   "execution_count": 20,
   "id": "bc79e138",
   "metadata": {},
   "outputs": [
    {
     "data": {
      "text/plain": [
       "<AxesSubplot:>"
      ]
     },
     "execution_count": 20,
     "metadata": {},
     "output_type": "execute_result"
    },
    {
     "data": {
      "image/png": "[encoded data removed]",
      "text/plain": [
       "<Figure size 432x288 with 1 Axes>"
      ]
     },
     "metadata": {
      "needs_background": "light"
     },
     "output_type": "display_data"
    }
   ],
   "source": [
    "numFuelConDF['FUELCONSUMPTION_CITY'].hist(bins = 60)"
   ]
  },
  {
   "cell_type": "code",
   "execution_count": 21,
   "id": "b0c3f2b9",
   "metadata": {},
   "outputs": [
    {
     "data": {
      "text/plain": [
       "<AxesSubplot:>"
      ]
     },
     "execution_count": 21,
     "metadata": {},
     "output_type": "execute_result"
    },
    {
     "data": {
      "image/png": "[encoded data removed]",
      "text/plain": [
       "<Figure size 432x288 with 1 Axes>"
      ]
     },
     "metadata": {
      "needs_background": "light"
     },
     "output_type": "display_data"
    }
   ],
   "source": [
    "numFuelConDF['FUELCONSUMPTION_HWY'].hist(bins = 60)"
   ]
  },
  {
   "cell_type": "code",
   "execution_count": 22,
   "id": "65eacad5",
   "metadata": {},
   "outputs": [
    {
     "data": {
      "text/plain": [
       "<AxesSubplot:>"
      ]
     },
     "execution_count": 22,
     "metadata": {},
     "output_type": "execute_result"
    },
    {
     "data": {
      "image/png": "[encoded data removed]",
      "text/plain": [
       "<Figure size 432x288 with 1 Axes>"
      ]
     },
     "metadata": {
      "needs_background": "light"
     },
     "output_type": "display_data"
    }
   ],
   "source": [
    "numFuelConDF['FUELCONSUMPTION_COMB'].hist(bins = 60)"
   ]
  },
  {
   "cell_type": "code",
   "execution_count": 23,
   "id": "5fcebdc5",
   "metadata": {},
   "outputs": [
    {
     "data": {
      "text/plain": [
       "<AxesSubplot:>"
      ]
     },
     "execution_count": 23,
     "metadata": {},
     "output_type": "execute_result"
    },
    {
     "data": {
      "image/png": "[encoded data removed]",
      "text/plain": [
       "<Figure size 432x288 with 1 Axes>"
      ]
     },
     "metadata": {
      "needs_background": "light"
     },
     "output_type": "display_data"
    }
   ],
   "source": [
    "numFuelConDF['FUELCONSUMPTION_COMB_MPG'].hist(bins = 60)"
   ]
  },
  {
   "cell_type": "code",
   "execution_count": 24,
   "id": "038136bf",
   "metadata": {},
   "outputs": [
    {
     "data": {
      "text/plain": [
       "<AxesSubplot:>"
      ]
     },
     "execution_count": 24,
     "metadata": {},
     "output_type": "execute_result"
    },
    {
     "data": {
      "image/png": "[encoded data removed]",
      "text/plain": [
       "<Figure size 432x288 with 1 Axes>"
      ]
     },
     "metadata": {
      "needs_background": "light"
     },
     "output_type": "display_data"
    }
   ],
   "source": [
    "numFuelConDF['CO2EMISSIONS'].hist(bins = 60)"
   ]
  },
  {
   "cell_type": "markdown",
   "id": "45e9bc1c",
   "metadata": {},
   "source": [
    "# Part 7:"
   ]
  },
  {
   "cell_type": "code",
   "execution_count": 25,
   "id": "a4a21324",
   "metadata": {},
   "outputs": [
    {
     "name": "stdout",
     "output_type": "stream",
     "text": [
      "      Unnamed: 0  MODELYEAR  ENGINESIZE  CYLINDERS  FUELCONSUMPTION_CITY  \\\n",
      "0              0          0   -0.973622  -0.952861             -0.833605   \n",
      "1              1          0   -0.683744  -0.952861             -0.519842   \n",
      "2              2          0   -1.335970  -0.952861             -1.774893   \n",
      "4              4          0    0.113422   0.139541             -0.302621   \n",
      "5              5          0    0.113422   0.139541             -0.350893   \n",
      "...          ...        ...         ...        ...                   ...   \n",
      "1062        1062          0   -0.248926   0.139541              0.011141   \n",
      "1063        1063          0   -0.103987   0.139541             -0.037130   \n",
      "1064        1064          0   -0.248926   0.139541              0.011141   \n",
      "1065        1065          0   -0.103987   0.139541             -0.109537   \n",
      "1066        1066          0   -0.103987   0.139541              0.373175   \n",
      "\n",
      "      FUELCONSUMPTION_HWY  FUELCONSUMPTION_COMB  FUELCONSUMPTION_COMB_MPG  \\\n",
      "0               -0.994870             -0.888216                  0.886286   \n",
      "1               -0.641939             -0.576247                  0.352882   \n",
      "2               -1.312508             -1.625596                  2.886552   \n",
      "4               -0.289008             -0.292640                  0.086180   \n",
      "5               -0.641939             -0.462804                  0.219531   \n",
      "...                   ...                   ...                       ...   \n",
      "1062             0.099216              0.047690                 -0.313873   \n",
      "1063            -0.006663             -0.037393                 -0.180522   \n",
      "1064             0.099216              0.047690                 -0.313873   \n",
      "1065            -0.077249             -0.094114                 -0.180522   \n",
      "1066             0.240388              0.331297                 -0.580575   \n",
      "\n",
      "      CO2EMISSIONS  \n",
      "0        -0.960111  \n",
      "1        -0.564949  \n",
      "2        -1.908498  \n",
      "4        -0.201401  \n",
      "5        -0.422691  \n",
      "...            ...  \n",
      "1062      0.225373  \n",
      "1063      0.114728  \n",
      "1064      0.225373  \n",
      "1065      0.051502  \n",
      "1066      0.588921  \n",
      "\n",
      "[964 rows x 9 columns]\n"
     ]
    }
   ],
   "source": [
    "numFuelConDF['MODELYEAR'] = 0\n",
    "numFuelConDF['ENGINESIZE'] = (numFuelConDF['ENGINESIZE'] - numFuelConDF['ENGINESIZE'].mean()) / numFuelConDF['ENGINESIZE'].std()\n",
    "numFuelConDF['CYLINDERS'] = (numFuelConDF['CYLINDERS'] - numFuelConDF['CYLINDERS'].mean()) / numFuelConDF['CYLINDERS'].std()\n",
    "numFuelConDF['FUELCONSUMPTION_CITY'] = (numFuelConDF['FUELCONSUMPTION_CITY'] - numFuelConDF['FUELCONSUMPTION_CITY'].mean()) / numFuelConDF['FUELCONSUMPTION_CITY'].std()\n",
    "numFuelConDF['FUELCONSUMPTION_HWY'] = (numFuelConDF['FUELCONSUMPTION_HWY'] - numFuelConDF['FUELCONSUMPTION_HWY'].mean()) / numFuelConDF['FUELCONSUMPTION_HWY'].std()\n",
    "numFuelConDF['FUELCONSUMPTION_COMB'] = (numFuelConDF['FUELCONSUMPTION_COMB'] - numFuelConDF['FUELCONSUMPTION_COMB'].mean()) / numFuelConDF['FUELCONSUMPTION_COMB'].std()\n",
    "numFuelConDF['FUELCONSUMPTION_COMB_MPG'] = (numFuelConDF['FUELCONSUMPTION_COMB_MPG'] - numFuelConDF['FUELCONSUMPTION_COMB_MPG'].mean()) / numFuelConDF['FUELCONSUMPTION_COMB_MPG'].std()\n",
    "numFuelConDF['CO2EMISSIONS'] = (numFuelConDF['CO2EMISSIONS'] - numFuelConDF['CO2EMISSIONS'].mean()) / numFuelConDF['CO2EMISSIONS'].std()\n",
    "print(numFuelConDF)"
   ]
  },
  {
   "cell_type": "markdown",
   "id": "8e1f3a93",
   "metadata": {},
   "source": [
    "For each column of our data frame we caluculate mean and standard deviation and then normalize values using given formula and save it in columns.."
   ]
  },
  {
   "cell_type": "markdown",
   "id": "579122d4",
   "metadata": {},
   "source": [
    "# Part 8:"
   ]
  },
  {
   "cell_type": "code",
   "execution_count": 26,
   "id": "5fcd3881",
   "metadata": {},
   "outputs": [
    {
     "data": {
      "text/plain": [
       "<AxesSubplot:xlabel='FUELCONSUMPTION_COMB_MPG', ylabel='CO2EMISSIONS'>"
      ]
     },
     "execution_count": 26,
     "metadata": {},
     "output_type": "execute_result"
    },
    {
     "data": {
      "image/png": "[encoded data removed]",
      "text/plain": [
       "<Figure size 432x288 with 1 Axes>"
      ]
     },
     "metadata": {
      "needs_background": "light"
     },
     "output_type": "display_data"
    },
    {
     "data": {
      "image/png": "[encoded data removed]",
      "text/plain": [
       "<Figure size 432x288 with 1 Axes>"
      ]
     },
     "metadata": {
      "needs_background": "light"
     },
     "output_type": "display_data"
    },
    {
     "data": {
      "image/png": "[encoded data removed]",
      "text/plain": [
       "<Figure size 432x288 with 1 Axes>"
      ]
     },
     "metadata": {
      "needs_background": "light"
     },
     "output_type": "display_data"
    },
    {
     "data": {
      "image/png": "[encoded data removed]",
      "text/plain": [
       "<Figure size 432x288 with 1 Axes>"
      ]
     },
     "metadata": {
      "needs_background": "light"
     },
     "output_type": "display_data"
    },
    {
     "data": {
      "image/png": "[encoded data removed]",
      "text/plain": [
       "<Figure size 432x288 with 1 Axes>"
      ]
     },
     "metadata": {
      "needs_background": "light"
     },
     "output_type": "display_data"
    },
    {
     "data": {
      "image/png": "[encoded data removed]",
      "text/plain": [
       "<Figure size 432x288 with 1 Axes>"
      ]
     },
     "metadata": {
      "needs_background": "light"
     },
     "output_type": "display_data"
    },
    {
     "data": {
      "image/png": "[encoded data removed]",
      "text/plain": [
       "<Figure size 432x288 with 1 Axes>"
      ]
     },
     "metadata": {
      "needs_background": "light"
     },
     "output_type": "display_data"
    }
   ],
   "source": [
    "numFuelConDF.plot.scatter(x='MODELYEAR', y='CO2EMISSIONS')\n",
    "numFuelConDF.plot.scatter(x='ENGINESIZE', y='CO2EMISSIONS')\n",
    "numFuelConDF.plot.scatter(x='CYLINDERS', y='CO2EMISSIONS')\n",
    "numFuelConDF.plot.scatter(x='FUELCONSUMPTION_CITY', y='CO2EMISSIONS')\n",
    "numFuelConDF.plot.scatter(x='FUELCONSUMPTION_HWY', y='CO2EMISSIONS')\n",
    "numFuelConDF.plot.scatter(x='FUELCONSUMPTION_COMB', y='CO2EMISSIONS')\n",
    "numFuelConDF.plot.scatter(x='FUELCONSUMPTION_COMB_MPG', y='CO2EMISSIONS')"
   ]
  },
  {
   "cell_type": "markdown",
   "id": "8bf6f5a7",
   "metadata": {},
   "source": [
    "Here we show the relation between each car properties and co2 emission and draw a plot for it to find out which one has better relation with co2 emission (probablly one with obvious linear relation)"
   ]
  },
  {
   "cell_type": "code",
   "execution_count": 27,
   "id": "b23df755",
   "metadata": {},
   "outputs": [
    {
     "data": {
      "text/plain": [
       "<AxesSubplot:xlabel='FUELCONSUMPTION_COMB', ylabel='CO2EMISSIONS'>"
      ]
     },
     "execution_count": 27,
     "metadata": {},
     "output_type": "execute_result"
    },
    {
     "data": {
      "image/png": "[encoded data removed]",
      "text/plain": [
       "<Figure size 432x288 with 1 Axes>"
      ]
     },
     "metadata": {
      "needs_background": "light"
     },
     "output_type": "display_data"
    }
   ],
   "source": [
    "numFuelConDF.plot.scatter(x='FUELCONSUMPTION_COMB', y='CO2EMISSIONS')"
   ]
  },
  {
   "cell_type": "markdown",
   "id": "e30a8aa4",
   "metadata": {},
   "source": [
    "As we can see the relation between co2 emission and fuel consumption_comb is almost linear and looks like a straght line."
   ]
  },
  {
   "cell_type": "markdown",
   "id": "46327149",
   "metadata": {},
   "source": [
    "# Part 9:"
   ]
  },
  {
   "cell_type": "code",
   "execution_count": 28,
   "id": "908e0e1a",
   "metadata": {},
   "outputs": [
    {
     "data": {
      "text/html": [
       "<div>\n",
       "<style scoped>\n",
       "    .dataframe tbody tr th:only-of-type {\n",
       "        vertical-align: middle;\n",
       "    }\n",
       "\n",
       "    .dataframe tbody tr th {\n",
       "        vertical-align: top;\n",
       "    }\n",
       "\n",
       "    .dataframe thead th {\n",
       "        text-align: right;\n",
       "    }\n",
       "</style>\n",
       "<table border=\"1\" class=\"dataframe\">\n",
       "  <thead>\n",
       "    <tr style=\"text-align: right;\">\n",
       "      <th></th>\n",
       "      <th>FUELCONSUMPTION_COMB</th>\n",
       "      <th>CO2EMISSIONS</th>\n",
       "    </tr>\n",
       "  </thead>\n",
       "  <tbody>\n",
       "    <tr>\n",
       "      <th>0</th>\n",
       "      <td>-0.888216</td>\n",
       "      <td>-0.960111</td>\n",
       "    </tr>\n",
       "    <tr>\n",
       "      <th>1</th>\n",
       "      <td>-0.576247</td>\n",
       "      <td>-0.564949</td>\n",
       "    </tr>\n",
       "    <tr>\n",
       "      <th>2</th>\n",
       "      <td>-1.625596</td>\n",
       "      <td>-1.908498</td>\n",
       "    </tr>\n",
       "    <tr>\n",
       "      <th>4</th>\n",
       "      <td>-0.292640</td>\n",
       "      <td>-0.201401</td>\n",
       "    </tr>\n",
       "    <tr>\n",
       "      <th>5</th>\n",
       "      <td>-0.462804</td>\n",
       "      <td>-0.422691</td>\n",
       "    </tr>\n",
       "    <tr>\n",
       "      <th>...</th>\n",
       "      <td>...</td>\n",
       "      <td>...</td>\n",
       "    </tr>\n",
       "    <tr>\n",
       "      <th>1062</th>\n",
       "      <td>0.047690</td>\n",
       "      <td>0.225373</td>\n",
       "    </tr>\n",
       "    <tr>\n",
       "      <th>1063</th>\n",
       "      <td>-0.037393</td>\n",
       "      <td>0.114728</td>\n",
       "    </tr>\n",
       "    <tr>\n",
       "      <th>1064</th>\n",
       "      <td>0.047690</td>\n",
       "      <td>0.225373</td>\n",
       "    </tr>\n",
       "    <tr>\n",
       "      <th>1065</th>\n",
       "      <td>-0.094114</td>\n",
       "      <td>0.051502</td>\n",
       "    </tr>\n",
       "    <tr>\n",
       "      <th>1066</th>\n",
       "      <td>0.331297</td>\n",
       "      <td>0.588921</td>\n",
       "    </tr>\n",
       "  </tbody>\n",
       "</table>\n",
       "<p>964 rows × 2 columns</p>\n",
       "</div>"
      ],
      "text/plain": [
       "      FUELCONSUMPTION_COMB  CO2EMISSIONS\n",
       "0                -0.888216     -0.960111\n",
       "1                -0.576247     -0.564949\n",
       "2                -1.625596     -1.908498\n",
       "4                -0.292640     -0.201401\n",
       "5                -0.462804     -0.422691\n",
       "...                    ...           ...\n",
       "1062              0.047690      0.225373\n",
       "1063             -0.037393      0.114728\n",
       "1064              0.047690      0.225373\n",
       "1065             -0.094114      0.051502\n",
       "1066              0.331297      0.588921\n",
       "\n",
       "[964 rows x 2 columns]"
      ]
     },
     "execution_count": 28,
     "metadata": {},
     "output_type": "execute_result"
    }
   ],
   "source": [
    "hypothesisData = numFuelConDF[{'FUELCONSUMPTION_COMB', 'CO2EMISSIONS'}]\n",
    "hypothesisData"
   ]
  },
  {
   "cell_type": "markdown",
   "id": "bf2df8ec",
   "metadata": {},
   "source": [
    "Make a new data frame with FUELCONSUMPTION_COMB and CO2EMISSIONS"
   ]
  },
  {
   "cell_type": "markdown",
   "id": "53974003",
   "metadata": {},
   "source": [
    "# Part 10:"
   ]
  },
  {
   "cell_type": "code",
   "execution_count": 29,
   "id": "221f805d",
   "metadata": {},
   "outputs": [
    {
     "data": {
      "text/plain": [
       "array([[2.54251589e-16],\n",
       "       [8.88687103e-01]])"
      ]
     },
     "execution_count": 29,
     "metadata": {},
     "output_type": "execute_result"
    }
   ],
   "source": [
    "onesX = [1] * len(hypothesisData)\n",
    "xMat = numpy.array([onesX, list(hypothesisData['FUELCONSUMPTION_COMB'])]).T\n",
    "yMat = hypothesisData[{'CO2EMISSIONS'}].to_numpy()\n",
    "xTx = numpy.matmul(xMat.transpose(), xMat)\n",
    "invxTx = numpy.linalg.inv(xTx)\n",
    "xTy = numpy.matmul(xMat.transpose(), yMat)\n",
    "theta = numpy.matmul(invxTx, xTy)\n",
    "theta"
   ]
  },
  {
   "cell_type": "markdown",
   "id": "2d85f262",
   "metadata": {},
   "source": [
    "Array theta contains theta1 and thata0."
   ]
  },
  {
   "cell_type": "code",
   "execution_count": 30,
   "id": "8a9380be",
   "metadata": {},
   "outputs": [
    {
     "data": {
      "text/plain": [
       "0.2100171470129475"
      ]
     },
     "execution_count": 30,
     "metadata": {},
     "output_type": "execute_result"
    }
   ],
   "source": [
    "xTehta = numpy.dot(xMat, theta)\n",
    "error = xTehta - yMat\n",
    "MSE = error**2/len(hypothesisData)\n",
    "MSE.sum()"
   ]
  },
  {
   "cell_type": "markdown",
   "id": "8aea9c22",
   "metadata": {},
   "source": [
    "As we can see mean squared error is about 0.21 and is less than 0.5 which is good here."
   ]
  },
  {
   "cell_type": "markdown",
   "id": "105ff07e",
   "metadata": {},
   "source": [
    "Using matrixes and linear regression we find the Hypothesis Function. The technique used here is from a youtube video. the link is : https://www.youtube.com/watch?v=Qa_FI92_qo8"
   ]
  },
  {
   "cell_type": "markdown",
   "id": "09dab3c3",
   "metadata": {},
   "source": [
    "# Part 11:"
   ]
  },
  {
   "cell_type": "code",
   "execution_count": 31,
   "id": "bef8979a",
   "metadata": {},
   "outputs": [
    {
     "data": {
      "image/png": "[encoded data removed]",
      "text/plain": [
       "<Figure size 432x288 with 1 Axes>"
      ]
     },
     "metadata": {
      "needs_background": "light"
     },
     "output_type": "display_data"
    }
   ],
   "source": [
    "X = numpy.array(list(hypothesisData['FUELCONSUMPTION_COMB'])).T\n",
    "hTheta = theta[1] * X + theta[0]\n",
    "pyplt.scatter(X, yMat)\n",
    "pyplt.plot(X, hTheta, color = 'red', label = 'predicted function')\n",
    "pyplt.xlabel('FUELCONSUMPTION_COMB')\n",
    "pyplt.ylabel('CO2EMISSIONS')\n",
    "pyplt.legend(loc = \"lower right\")\n",
    "pyplt.show()"
   ]
  },
  {
   "cell_type": "markdown",
   "id": "e1a553c8",
   "metadata": {},
   "source": [
    "Here we show plot and prediction line. the predicted function found previously (by using linear regression and matrix).\n",
    "The red line predicts the function well cause it is close to data and grows as fuelConsumtion_comb rise."
   ]
  },
  {
   "cell_type": "markdown",
   "id": "4a72c21c",
   "metadata": {},
   "source": [
    "# Part 12:"
   ]
  },
  {
   "cell_type": "code",
   "execution_count": 32,
   "id": "55619f88",
   "metadata": {},
   "outputs": [
    {
     "name": "stdout",
     "output_type": "stream",
     "text": [
      "103\n",
      "3        9.864427\n",
      "20       8.886871\n",
      "30       9.953296\n",
      "42      11.730670\n",
      "43       9.686689\n",
      "          ...    \n",
      "1022     8.353659\n",
      "1027     8.709134\n",
      "1051     9.508952\n",
      "1052    10.308770\n",
      "1053     9.508952\n",
      "Name: FUELCONSUMPTION_COMB, Length: 103, dtype: float64\n"
     ]
    },
    {
     "data": {
      "image/png": "[encoded data removed]",
      "text/plain": [
       "<Figure size 432x288 with 1 Axes>"
      ]
     },
     "metadata": {
      "needs_background": "light"
     },
     "output_type": "display_data"
    }
   ],
   "source": [
    "print(len(naFuelConDF))\n",
    "resultCo2 = theta[1] * naFuelConDF['FUELCONSUMPTION_COMB'] + theta[0]\n",
    "print(resultCo2)\n",
    "pyplt.scatter(naFuelConDF['FUELCONSUMPTION_COMB'], resultCo2, color = 'purple')\n",
    "pyplt.xlabel('FUELCONSUMPTION_COMB')\n",
    "pyplt.ylabel('CO2EMISSIONS')\n",
    "pyplt.show()"
   ]
  },
  {
   "cell_type": "markdown",
   "id": "6df23960",
   "metadata": {},
   "source": [
    "Finally we get cars fuel consumption of those which have missing values for co2 emission to predicted and give it to our prediction funcion to predict co2 emission. "
   ]
  }
 ],
 "metadata": {
  "kernelspec": {
   "display_name": "Python 3 (ipykernel)",
   "language": "python",
   "name": "python3"
  },
  "language_info": {
   "codemirror_mode": {
    "name": "ipython",
    "version": 3
   },
   "file_extension": ".py",
   "mimetype": "text/x-python",
   "name": "python",
   "nbconvert_exporter": "python",
   "pygments_lexer": "ipython3",
   "version": "3.9.6"
  }
 },
 "nbformat": 4,
 "nbformat_minor": 5
}
